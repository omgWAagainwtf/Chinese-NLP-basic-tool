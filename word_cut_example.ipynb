{
 "cells": [
  {
   "cell_type": "code",
   "execution_count": 59,
   "metadata": {},
   "outputs": [],
   "source": [
    "import jieba"
   ]
  },
  {
   "cell_type": "code",
   "execution_count": 84,
   "metadata": {},
   "outputs": [],
   "source": [
    "text = \"魯夫說要當上海賊王\""
   ]
  },
  {
   "cell_type": "code",
   "execution_count": 86,
   "metadata": {},
   "outputs": [
    {
     "name": "stdout",
     "output_type": "stream",
     "text": [
      "魯夫\n",
      "說\n",
      "要當\n",
      "上海\n",
      "賊\n",
      "王\n"
     ]
    }
   ],
   "source": [
    "word_list = jieba.cut(text)\n",
    "for word in word_list:\n",
    "    print(word)"
   ]
  },
  {
   "cell_type": "code",
   "execution_count": 87,
   "metadata": {},
   "outputs": [
    {
     "name": "stdout",
     "output_type": "stream",
     "text": [
      "魯\n",
      "夫\n",
      "說\n",
      "要\n",
      "當\n",
      "上海\n",
      "賊\n",
      "王\n"
     ]
    }
   ],
   "source": [
    "word_list = jieba.cut(text,cut_all=True)\n",
    "for word in word_list:\n",
    "    print(word)"
   ]
  },
  {
   "cell_type": "code",
   "execution_count": 88,
   "metadata": {
    "scrolled": true
   },
   "outputs": [
    {
     "name": "stdout",
     "output_type": "stream",
     "text": [
      "魯夫\n",
      "說\n",
      "要當\n",
      "上海\n",
      "賊\n",
      "王\n"
     ]
    }
   ],
   "source": [
    "word_list = jieba.cut(text,HMM=True)\n",
    "for word in word_list:\n",
    "    print(word)"
   ]
  },
  {
   "cell_type": "code",
   "execution_count": 91,
   "metadata": {},
   "outputs": [],
   "source": [
    "jieba.load_userdict('data/test.dict')"
   ]
  },
  {
   "cell_type": "markdown",
   "metadata": {},
   "source": [
    "在test.dict裡新增了\"海賊王\""
   ]
  },
  {
   "cell_type": "code",
   "execution_count": 93,
   "metadata": {},
   "outputs": [
    {
     "name": "stdout",
     "output_type": "stream",
     "text": [
      "魯夫\n",
      "說\n",
      "要\n",
      "當上\n",
      "海賊王\n"
     ]
    }
   ],
   "source": [
    "word_list = jieba.cut(text)\n",
    "for word in word_list:\n",
    "    print(word)"
   ]
  },
  {
   "cell_type": "code",
   "execution_count": 67,
   "metadata": {},
   "outputs": [
    {
     "name": "stdout",
     "output_type": "stream",
     "text": [
      "魯\n",
      "夫\n",
      "說\n",
      "要\n",
      "當上\n",
      "上海\n",
      "海賊\n",
      "海賊王\n"
     ]
    }
   ],
   "source": [
    "word_list = jieba.cut(text,cut_all=True)\n",
    "for word in word_list:\n",
    "    print(word)"
   ]
  },
  {
   "cell_type": "code",
   "execution_count": 68,
   "metadata": {},
   "outputs": [
    {
     "name": "stdout",
     "output_type": "stream",
     "text": [
      "魯夫\n",
      "說\n",
      "要\n",
      "當上\n",
      "海賊王\n"
     ]
    }
   ],
   "source": [
    "word_list = jieba.cut(text,HMM=True)\n",
    "for word in word_list:\n",
    "    print(word)"
   ]
  },
  {
   "cell_type": "code",
   "execution_count": 101,
   "metadata": {},
   "outputs": [],
   "source": [
    "jieba.set_dictionary('data/dict.txt.big')"
   ]
  },
  {
   "cell_type": "code",
   "execution_count": 70,
   "metadata": {},
   "outputs": [
    {
     "name": "stdout",
     "output_type": "stream",
     "text": [
      "小\n",
      "明\n",
      "是\n",
      "個\n",
      "吃苦\n",
      "吃苦耐勞\n",
      "耐勞\n",
      "的\n",
      "人\n"
     ]
    }
   ],
   "source": [
    "text_1 = \"小明是個吃苦耐勞的人\"\n",
    "word_list = jieba.cut(text_1,cut_all=True)\n",
    "for word in word_list:\n",
    "    print(word)"
   ]
  },
  {
   "cell_type": "code",
   "execution_count": 109,
   "metadata": {},
   "outputs": [
    {
     "name": "stdout",
     "output_type": "stream",
     "text": [
      "中正\n",
      "大學\n",
      "沒有\n",
      "摩斯\n",
      "漢堡\n"
     ]
    }
   ],
   "source": [
    "text_1 = \"中正大學沒有摩斯漢堡\"\n",
    "word_list = jieba.cut(text_1)\n",
    "for word in word_list:\n",
    "    print(word)"
   ]
  },
  {
   "cell_type": "code",
   "execution_count": 110,
   "metadata": {},
   "outputs": [],
   "source": [
    "jieba.load_userdict('data/mydict')"
   ]
  },
  {
   "cell_type": "code",
   "execution_count": 111,
   "metadata": {},
   "outputs": [
    {
     "name": "stdout",
     "output_type": "stream",
     "text": [
      "中正大學\n",
      "沒有\n",
      "摩斯\n",
      "漢堡\n"
     ]
    }
   ],
   "source": [
    "word_list = jieba.cut(text_1)\n",
    "for word in word_list:\n",
    "    print(word)"
   ]
  },
  {
   "cell_type": "code",
   "execution_count": 112,
   "metadata": {},
   "outputs": [],
   "source": [
    "jieba.add_word('摩斯漢堡')"
   ]
  },
  {
   "cell_type": "code",
   "execution_count": 116,
   "metadata": {},
   "outputs": [
    {
     "name": "stdout",
     "output_type": "stream",
     "text": [
      "中正大學\n",
      "沒有\n",
      "摩斯漢堡\n"
     ]
    }
   ],
   "source": [
    "word_list = jieba.cut(text_1)\n",
    "for word in word_list:\n",
    "    print(word)"
   ]
  },
  {
   "cell_type": "code",
   "execution_count": 117,
   "metadata": {
    "scrolled": true
   },
   "outputs": [
    {
     "name": "stdout",
     "output_type": "stream",
     "text": [
      "魯夫\n",
      "說\n",
      "要\n",
      "當上\n",
      "海賊\n",
      "海賊王\n"
     ]
    }
   ],
   "source": [
    "word_list = jieba.cut_for_search(text)\n",
    "for word in word_list:\n",
    "    print(word)"
   ]
  },
  {
   "cell_type": "code",
   "execution_count": null,
   "metadata": {},
   "outputs": [],
   "source": []
  }
 ],
 "metadata": {
  "kernelspec": {
   "display_name": "Python 3",
   "language": "python",
   "name": "python3"
  },
  "language_info": {
   "codemirror_mode": {
    "name": "ipython",
    "version": 3
   },
   "file_extension": ".py",
   "mimetype": "text/x-python",
   "name": "python",
   "nbconvert_exporter": "python",
   "pygments_lexer": "ipython3",
   "version": "3.5.2"
  }
 },
 "nbformat": 4,
 "nbformat_minor": 2
}
